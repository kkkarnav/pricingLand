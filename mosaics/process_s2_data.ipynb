{
 "cells": [
  {
   "cell_type": "code",
   "execution_count": 1,
   "metadata": {},
   "outputs": [],
   "source": [
    "import os\n",
    "import zipfile\n",
    "import rasterio\n",
    "import numpy as np\n",
    "from tqdm import tqdm"
   ]
  },
  {
   "cell_type": "code",
   "execution_count": 2,
   "metadata": {},
   "outputs": [],
   "source": [
    "zip_dir = \"D:/code/computer-vision/active/mosaics\"\n",
    "output_dir = \"./mosaics\" \n",
    "os.makedirs(output_dir, exist_ok=True)\n",
    "\n",
    "bands = [\"B02\", \"B03\", \"B04\", \"B08\"]"
   ]
  },
  {
   "cell_type": "code",
   "execution_count": 3,
   "metadata": {},
   "outputs": [
    {
     "name": "stderr",
     "output_type": "stream",
     "text": [
      "100%|██████████| 27/27 [00:00<?, ?it/s]\n"
     ]
    }
   ],
   "source": [
    "\n",
    "for zip_file in tqdm(os.listdir(zip_dir)):\n",
    "    if zip_file.endswith(\".zip\"):\n",
    "        \n",
    "        zip_path = f\"{zip_dir}/{zip_file}\"\n",
    "        extract_path = f\"{zip_dir}/{os.path.splitext(zip_file)[0]}\"\n",
    "        output_path = f\"{output_dir}/{os.path.splitext(zip_file)[0]}_rgbnir.tif\"\n",
    "        \n",
    "        with zipfile.ZipFile(zip_path, 'r') as zip_ref:\n",
    "            zip_ref.extractall(extract_path)\n",
    "                    \n",
    "        tif_files = {band: None for band in bands}\n",
    "        for root, _, files in os.walk(extract_path):\n",
    "            for file in files:\n",
    "                for band in bands:\n",
    "                    if band in file and file.endswith(\".tif\"):\n",
    "                        tif_files[band] = f\"{root}/{file}\"\n",
    "\n",
    "        with rasterio.open(tif_files[\"B02\"]) as src:\n",
    "            meta = src.meta.copy()\n",
    "            meta.update(count=len(bands))\n",
    "\n",
    "        with rasterio.open(output_path, \"w\", **meta) as dest:\n",
    "            for idx, band in enumerate(bands, start=1):\n",
    "                with rasterio.open(tif_files[band]) as src:\n",
    "                    dest.write(src.read(1), idx)"
   ]
  }
 ],
 "metadata": {
  "kernelspec": {
   "display_name": "Python 3",
   "language": "python",
   "name": "python3"
  },
  "language_info": {
   "codemirror_mode": {
    "name": "ipython",
    "version": 3
   },
   "file_extension": ".py",
   "mimetype": "text/x-python",
   "name": "python",
   "nbconvert_exporter": "python",
   "pygments_lexer": "ipython3",
   "version": "3.12.7"
  }
 },
 "nbformat": 4,
 "nbformat_minor": 2
}
