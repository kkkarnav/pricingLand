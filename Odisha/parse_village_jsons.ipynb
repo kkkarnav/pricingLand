{
 "cells": [
  {
   "cell_type": "code",
   "execution_count": 1,
   "metadata": {},
   "outputs": [],
   "source": [
    "import os\n",
    "import json\n",
    "from pprint import pprint\n",
    "from tqdm import tqdm\n",
    "import pandas as pd\n",
    "import geopandas as gpd\n",
    "import ast\n",
    "from shapely.geometry import Polygon\n",
    "import matplotlib.pyplot as plt\n",
    "import re\n",
    "from pyproj import Proj, transform"
   ]
  },
  {
   "cell_type": "code",
   "execution_count": 2,
   "metadata": {},
   "outputs": [],
   "source": [
    "state_name = \"Odisha\"\n",
    "states = {\"Odisha\": {\"code\": 21, \"link\": \"https://bhunakshaodisha.nic.in/\"}}"
   ]
  },
  {
   "cell_type": "code",
   "execution_count": 3,
   "metadata": {},
   "outputs": [],
   "source": [
    "def compile_extent_shapefile(state, file_path):\n",
    "\n",
    "    with open(file_path, \"r\", encoding=\"utf8\") as path:\n",
    "        state_dict = json.loads(path.read())\n",
    "\n",
    "    flat_villages = []\n",
    "    for district in tqdm(state_dict.keys()):\n",
    "        for taluk in state_dict[district].keys():\n",
    "            for ri in state_dict[district][taluk].keys():\n",
    "                for village in state_dict[district][taluk][ri].keys():\n",
    "                    for sheet in state_dict[district][taluk][ri][village].keys():\n",
    "                        village_obj = state_dict[district][taluk][ri][village][sheet]\n",
    "                        flat_villages.append([district, taluk, ri, village, sheet, village_obj[\"giscode\"], village_obj[\"extent\"], village_obj[\"last_updated\"]])\n",
    "\n",
    "    df = pd.DataFrame(flat_villages, columns=[\"district\", \"taluk\", \"ri\", \"village\", \"sheet\", \"giscode\", \"extent\", \"last_updated\"])\n",
    "    df[\"geometry\"] = df.apply(lambda x: Polygon([(x[\"extent\"][0], x[\"extent\"][2]), \n",
    "                                                 (x[\"extent\"][0], x[\"extent\"][3]), \n",
    "                                                 (x[\"extent\"][1], x[\"extent\"][3]), \n",
    "                                                 (x[\"extent\"][1], x[\"extent\"][2])]) if (len(x[\"extent\"]) >= 4 and x[\"extent\"][3] is not None) else None, axis=1)\n",
    "    df = df.set_geometry('geometry')\n",
    "    df.drop([\"extent\"], axis=1, inplace=True)\n",
    "    df = df.set_crs('epsg:4326')\n",
    "    df.to_file(\"./districts/village_extents.shp\")\n",
    "\n",
    "    return df\n"
   ]
  },
  {
   "cell_type": "code",
   "execution_count": 4,
   "metadata": {},
   "outputs": [
    {
     "name": "stderr",
     "output_type": "stream",
     "text": [
      "100%|██████████| 30/30 [00:00<00:00, 51.30it/s]\n",
      "C:\\Users\\karnav\\AppData\\Local\\Temp\\ipykernel_1168\\2114992658.py:23: UserWarning: Column names longer than 10 characters will be truncated when saved to ESRI Shapefile.\n",
      "  df.to_file(\"./districts/village_extents.shp\")\n",
      "c:\\Program Files\\Python312\\Lib\\site-packages\\pyogrio\\raw.py:723: RuntimeWarning: Normalized/laundered field name: 'last_updated' to 'last_updat'\n",
      "  ogr_write(\n"
     ]
    }
   ],
   "source": [
    "extent_json = f\"./village_extents.json\"\n",
    "\n",
    "# Populates ./districts/village_extents.shp which is a map of all villages by rough extent\n",
    "extents = compile_extent_shapefile(state_name, extent_json)\n",
    "extents = gpd.read_file(\"./districts/village_extents.shp\")"
   ]
  },
  {
   "cell_type": "code",
   "execution_count": 5,
   "metadata": {},
   "outputs": [],
   "source": [
    "def compile_plots_shapefile(state, file_list, edf):\n",
    "\n",
    "    gdf, noplots, no204s = [], [], []\n",
    "    for path in tqdm(file_list):\n",
    "\n",
    "        plot_dfs = []\n",
    "\n",
    "        try:\n",
    "            with open(f\"./villages/{path}\", \"r\") as file_path:\n",
    "                village_dict = json.loads(file_path.read())\n",
    "        except:\n",
    "            print(f\"Failed to open {path}\")\n",
    "            continue\n",
    "\n",
    "        plot_dfs.append(gpd.GeoDataFrame.from_dict(village_dict['plots'], orient=\"index\"))\n",
    "\n",
    "        df = pd.concat(plot_dfs, ignore_index=True)\n",
    "        if df.empty:\n",
    "            noplots.append(path.split(\".\")[0])\n",
    "            continue\n",
    "\n",
    "        try:\n",
    "            df[\"geometry\"] = df[\"extent\"]\n",
    "            # df = df.set_geometry('geometry')\n",
    "            # df.set_crs(\"epsg:32643\", inplace=True)\n",
    "            df[\"giscode\"] = path\n",
    "\n",
    "            gdf.append(df)\n",
    "        except:\n",
    "            no204s.append(path.split(\".\")[0])\n",
    "    \n",
    "    print(f\"No plots found for {len(noplots)} files: {noplots}\")\n",
    "    print(f\"204 errors for {len(no204s)} files: {no204s}\")\n",
    "\n",
    "    for district in tqdm(edf[\"district\"].apply(lambda x: x[:3]).unique()):\n",
    "\n",
    "        district_edf = edf[edf[\"district\"].apply(lambda x: x[:3]) == district]\n",
    "        district_dfs = []\n",
    "\n",
    "        for df in gdf:\n",
    "            if df.loc[0, \"giscode\"] in district_edf[\"giscode\"].values:\n",
    "                district_dfs.append(df)\n",
    "\n",
    "        if not district_dfs:\n",
    "            print(f\"No plots found for {district}\")\n",
    "            continue\n",
    "        \n",
    "        villages = pd.concat(district_dfs, ignore_index=True).drop([\"owner_plots\", \"extent\"], axis=1)\n",
    "        # villages = villages.to_crs('epsg:4326')\n",
    "\n",
    "        merged = pd.merge(villages, district_edf, on=\"giscode\", how=\"left\")\n",
    "        merged[\"geometry\"] = merged[\"geometry_x\"]\n",
    "        # merged.set_geometry('geometry', inplace=True)\n",
    "        merged.drop([\"geometry_x\", \"geometry_y\"], axis=1, inplace=True)\n",
    "\n",
    "        merged[\"link\"] = merged[\"link\"].apply(lambda x: x.split('href=\"')[1].split('>Map')[0].strip()[:-1])\n",
    "        merged.to_csv(f\"./districts/{district.split(',')[0]}.csv\")\n",
    "        # merged.to_file(f\"./districts/{district.split(',')[0]}.shp\")\n",
    "\n",
    "\n",
    "    # villages = pd.concat(gdf, ignore_index=True).drop([\"owner_plots\", \"extent\"], axis=1)\n",
    "    # villages = villages.to_crs('epsg:4326')\n",
    "\n",
    "    # villages[\"link\"] = villages[\"link\"].apply(lambda x: x.split('href=\"')[1].split('>Map')[0].strip()[:-1])\n",
    "    # villages.to_file(\"./districts/villages.shp\")\n",
    "\n",
    "    # return villages\n"
   ]
  },
  {
   "cell_type": "code",
   "execution_count": 6,
   "metadata": {},
   "outputs": [],
   "source": [
    "plot_files = [file for file in os.listdir(f\"./villages\") if file.endswith(\".json\")]\n",
    "\n",
    "# Populates ./datasets/villages.shp which is a map of all landholdings by exact polygons\n",
    "# compile_plots_shapefile(state_name, plot_files, extents)"
   ]
  },
  {
   "cell_type": "code",
   "execution_count": null,
   "metadata": {},
   "outputs": [],
   "source": []
  }
 ],
 "metadata": {
  "kernelspec": {
   "display_name": "Python 3",
   "language": "python",
   "name": "python3"
  },
  "language_info": {
   "codemirror_mode": {
    "name": "ipython",
    "version": 3
   },
   "file_extension": ".py",
   "mimetype": "text/x-python",
   "name": "python",
   "nbconvert_exporter": "python",
   "pygments_lexer": "ipython3",
   "version": "3.12.7"
  }
 },
 "nbformat": 4,
 "nbformat_minor": 2
}
