{
 "cells": [
  {
   "cell_type": "code",
   "execution_count": null,
   "metadata": {},
   "outputs": [],
   "source": [
    "import os\n",
    "import json\n",
    "from pprint import pprint\n",
    "from tqdm import tqdm\n",
    "import pandas as pd\n",
    "import geopandas as gpd\n",
    "import ast\n",
    "from shapely.geometry import Polygon\n",
    "import matplotlib.pyplot as plt"
   ]
  },
  {
   "cell_type": "code",
   "execution_count": null,
   "metadata": {},
   "outputs": [],
   "source": [
    "state_name = \"Maharashtra\"\n",
    "states = {\"Maharashtra\": {\"code\": 27, \"link\": \"https://mahabhunakasha.mahabhumi.gov.in\"}}"
   ]
  },
  {
   "cell_type": "code",
   "execution_count": null,
   "metadata": {},
   "outputs": [],
   "source": [
    "def compile_extent_shapefile(state, file_path):\n",
    "\n",
    "    with open(file_path, \"r\", encoding=\"utf8\") as path:\n",
    "        state_dict = json.loads(path.read())\n",
    "\n",
    "    flat_villages = []\n",
    "    for category in state_dict.keys():\n",
    "        for district in state_dict[category].keys():\n",
    "            for taluk in state_dict[category][district].keys():\n",
    "                for village in state_dict[category][district][taluk].keys():\n",
    "                    village_obj = state_dict[category][district][taluk][village]\n",
    "                    flat_villages.append([category, district, taluk, village, village_obj[\"giscode\"], village_obj[\"extent\"]])\n",
    "\n",
    "    df = pd.DataFrame(flat_villages, columns=[\"category\", \"district\", \"taluk\", \"village\", \"giscode\", \"extent\"])\n",
    "    df[\"geometry\"] = df.apply(lambda x: Polygon([(x[\"extent\"][0], x[\"extent\"][2]), (x[\"extent\"][0], x[\"extent\"][3]), (x[\"extent\"][1], x[\"extent\"][3]), (x[\"extent\"][1], x[\"extent\"][2])]) if (len(x[\"extent\"]) >= 4 and x[\"extent\"][3] is not None) else None, axis=1)\n",
    "    df = df.set_geometry('geometry')\n",
    "    df.drop([\"extent\"], axis=1, inplace=True)\n",
    "    df = df.set_crs('epsg:4326')\n",
    "    df.to_file(\"./districts/village_extents_corrected.shp\")\n",
    "\n",
    "    return df\n"
   ]
  },
  {
   "cell_type": "code",
   "execution_count": null,
   "metadata": {},
   "outputs": [],
   "source": [
    "def compile_plots_shapefile(state, file_list, edf):\n",
    "\n",
    "    gdf = []\n",
    "    for path in tqdm(file_list):\n",
    "\n",
    "        plot_dfs = []\n",
    "\n",
    "        try:\n",
    "            with open(f\"./{state}/{path}\", \"r\") as file_path:\n",
    "                village_dict = json.loads(file_path.read())\n",
    "        except:\n",
    "            print(f\"Failed to open {path}\")\n",
    "            continue\n",
    "\n",
    "        plot_dfs.append(gpd.GeoDataFrame.from_dict(village_dict['plots'], orient=\"index\"))\n",
    "\n",
    "        df = pd.concat(plot_dfs, ignore_index=True)\n",
    "        if df.empty:\n",
    "            print(\"No plots found.\")\n",
    "            continue\n",
    "\n",
    "        try:\n",
    "            df[\"geometry\"] = gpd.GeoSeries.from_wkt(df[\"geometry\"])\n",
    "            df = df.set_geometry('geometry')\n",
    "\n",
    "            df.set_crs(\"epsg:32643\", inplace=True)\n",
    "            df[\"giscode\"] = path[:-5]\n",
    "\n",
    "            gdf.append(df)\n",
    "        except:\n",
    "            print(\"204\", path.split(\".\")[0])\n",
    "\n",
    "    for district in tqdm(edf[\"district\"].apply(lambda x: x[:3]).unique()):\n",
    "\n",
    "        district_edf = edf[edf[\"district\"].apply(lambda x: x[:3]) == district]\n",
    "        district_dfs = []\n",
    "\n",
    "        for df in gdf:\n",
    "            if df.loc[0, \"giscode\"] in district_edf[\"giscode\"].values:\n",
    "                district_dfs.append(df)\n",
    "\n",
    "        if not district_dfs:\n",
    "            continue\n",
    "        \n",
    "        villages = pd.concat(district_dfs, ignore_index=True).drop([\"owner_plots\", \"extent\"], axis=1)\n",
    "        villages = villages.to_crs('epsg:4326')\n",
    "\n",
    "        merged = pd.merge(villages, district_edf, on=\"giscode\", how=\"left\")\n",
    "        merged[\"geometry\"] = merged[\"geometry_x\"]\n",
    "        merged.set_geometry('geometry', inplace=True)\n",
    "        merged.drop([\"geometry_x\", \"geometry_y\"], axis=1, inplace=True)\n",
    "\n",
    "        merged[\"link\"] = merged[\"link\"].apply(lambda x: x.split('href=\"')[1].split('>Map')[0].strip()[:-1])\n",
    "        merged.to_file(f\"./datasets/MH/{district.split(',')[0]}.shp\")\n",
    "\n",
    "\n",
    "    # villages = pd.concat(gdf, ignore_index=True).drop([\"owner_plots\", \"extent\"], axis=1)\n",
    "    # villages = villages.to_crs('epsg:4326')\n",
    "\n",
    "    # villages[\"link\"] = villages[\"link\"].apply(lambda x: x.split('href=\"')[1].split('>Map')[0].strip()[:-1])\n",
    "    # villages.to_file(\"./datasets/villages.shp\")\n",
    "\n",
    "    # return villages\n"
   ]
  },
  {
   "cell_type": "code",
   "execution_count": null,
   "metadata": {},
   "outputs": [],
   "source": [
    "extent_json = f\"./village_extents_corrected.json\"\n",
    "\n",
    "# Populates ./datasets/village_extents.shp which is a map of all villages by rough extent\n",
    "# extents = compile_extent_shapefile(state_name, extent_json)\n",
    "extents = gpd.read_file(\"./datasets/village_extents.shp\")"
   ]
  },
  {
   "cell_type": "code",
   "execution_count": null,
   "metadata": {},
   "outputs": [],
   "source": [
    "plot_files = [file for file in os.listdir(f\"./{state_name}\") if file.endswith(\".json\")]\n",
    "\n",
    "# Populates ./datasets/villages.shp which is a map of all landholdings by exact polygons\n",
    "compile_plots_shapefile(state_name, plot_files, extents)"
   ]
  }
 ],
 "metadata": {
  "language_info": {
   "name": "python"
  }
 },
 "nbformat": 4,
 "nbformat_minor": 2
}
